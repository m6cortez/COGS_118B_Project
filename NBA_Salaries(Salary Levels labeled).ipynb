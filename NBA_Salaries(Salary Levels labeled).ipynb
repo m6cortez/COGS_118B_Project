{
 "cells": [
  {
   "cell_type": "code",
   "execution_count": null,
   "metadata": {},
   "outputs": [],
   "source": [
    "import numpy as np\n",
    "import pandas as pd\n",
    "import matplotlib.pyplot as plt\n",
    "import cpi"
   ]
  },
  {
   "cell_type": "code",
   "execution_count": null,
   "metadata": {},
   "outputs": [],
   "source": [
    "nba_salaries= pd.read_csv(\"salaries_1985to2018.csv\")\n",
    "nba_players=pd.read_csv(\"players.csv\")\n",
    "frames=[nba_players,nba_salaries]\n",
    "pd.set_option('display.max_rows',500)"
   ]
  },
  {
   "cell_type": "code",
   "execution_count": null,
   "metadata": {},
   "outputs": [],
   "source": [
    "nba_salaries.head()\n",
    "nba_salaries.shape"
   ]
  },
  {
   "cell_type": "code",
   "execution_count": null,
   "metadata": {},
   "outputs": [],
   "source": [
    "nba_salaries=nba_salaries[nba_salaries.season_start>=1990]\n",
    "nba_salaries=nba_salaries[nba_salaries.season_start<=2016]\n",
    "nba_salaries"
   ]
  },
  {
   "cell_type": "code",
   "execution_count": null,
   "metadata": {},
   "outputs": [],
   "source": [
    "#Account for inflation of these salaries\n",
    "#nba_salaries['salary'] = nba_salaries.apply(lambda x: cpi.inflate(x.salary, x.season_start), axis=1)\n",
    "nba_salaries"
   ]
  },
  {
   "cell_type": "code",
   "execution_count": null,
   "metadata": {},
   "outputs": [],
   "source": [
    "nba_salaries = nba_salaries.groupby(['player_id'], as_index=False).mean()\n",
    "nba_salaries"
   ]
  },
  {
   "cell_type": "code",
   "execution_count": null,
   "metadata": {},
   "outputs": [],
   "source": [
    "nba_salaries=nba_salaries.drop(columns=['season_end', 'season_start'])\n",
    "nba_salaries\n"
   ]
  },
  {
   "cell_type": "code",
   "execution_count": null,
   "metadata": {},
   "outputs": [],
   "source": [
    "nba_salaries=nba_salaries.round({\"salary\":1})"
   ]
  },
  {
   "cell_type": "code",
   "execution_count": null,
   "metadata": {},
   "outputs": [],
   "source": [
    "height_col = []\n",
    "for index, value in nba_players['height'].iteritems():\n",
    "    feet, inches = value.split(\"-\")\n",
    "    height = int(feet) * 12 + int(inches)\n",
    "    height_col.append(height)\n",
    "height_col= pd.Series(height_col)\n",
    "nba_players[\"height\"] = height_col"
   ]
  },
  {
   "cell_type": "code",
   "execution_count": null,
   "metadata": {},
   "outputs": [],
   "source": [
    "nba_player=nba_players[nba_players.draft_year>='1985']\n",
    "nba_player.head()"
   ]
  },
  {
   "cell_type": "code",
   "execution_count": null,
   "metadata": {},
   "outputs": [],
   "source": [
    "nba_players=nba_players.drop(columns=[ 'birthPlace', 'college', 'highSchool', 'birthDate',\"shoots\", 'draft_pick', \\\n",
    "                                     'draft_round', 'draft_year', 'draft_team','weight'])\n",
    "nba_players=nba_players[['name','_id','position', 'height'\n",
    "           ,'career_AST', 'career_FG%', 'career_FG3%','career_FT%', 'career_G', 'career_PER', 'career_PTS', 'career_TRB', 'career_WS', 'career_eFG%']]\n",
    "nba_players.head()\n"
   ]
  },
  {
   "cell_type": "code",
   "execution_count": null,
   "metadata": {},
   "outputs": [],
   "source": [
    "nba_players=nba_players.dropna(how = 'any')"
   ]
  },
  {
   "cell_type": "code",
   "execution_count": null,
   "metadata": {},
   "outputs": [],
   "source": [
    "nba_players.rename(columns = {\"career_FG%\" : \"careerFG\", \"career_FG3%\" : \"careerFG3\", \"career_FT%\" : \"careerFT\", \"career_eFG%\":'careereFG', \n",
    "                             \"career_G\":'careerG',\"career_PTS\":'careerPTS', \"career_PER\":'careerPER', \n",
    "                              \"career_TRB\":'careerTRB', \"career_WS\":'careerWS', \"career_AST\":'careerAST'} , inplace = True)\n"
   ]
  },
  {
   "cell_type": "code",
   "execution_count": null,
   "metadata": {},
   "outputs": [],
   "source": [
    "nba_players=nba_players.drop_duplicates(subset='name')\n"
   ]
  },
  {
   "cell_type": "code",
   "execution_count": null,
   "metadata": {},
   "outputs": [],
   "source": [
    "nba_players.shape"
   ]
  },
  {
   "cell_type": "code",
   "execution_count": null,
   "metadata": {},
   "outputs": [],
   "source": [
    "print(nba_players['name'].value_counts())"
   ]
  },
  {
   "cell_type": "code",
   "execution_count": null,
   "metadata": {},
   "outputs": [],
   "source": [
    "def tidy_split(df, column, sep='|', keep=False):\n",
    "    \"\"\"\n",
    "    Split the values of a column and expand so the new DataFrame has one split\n",
    "    value per row. Filters rows where the column is missing.\n",
    "\n",
    "    Params\n",
    "    ------\n",
    "    df : pandas.DataFrame\n",
    "        dataframe with the column to split and expand\n",
    "    column : str\n",
    "        the column to split and expand\n",
    "    sep : str\n",
    "        the string used to split the column's values\n",
    "    keep : bool\n",
    "        whether to retain the presplit value as it's own row\n",
    "\n",
    "    Returns\n",
    "    -------\n",
    "    pandas.DataFrame\n",
    "        Returns a dataframe with the same columns as `df`.\n",
    "    \"\"\"\n",
    "    indexes = list()\n",
    "    new_values = list()\n",
    "    df = df.dropna(subset=[column])\n",
    "    for i, presplit in enumerate(df[column].astype(str)):\n",
    "        values = presplit.split(sep)\n",
    "        if keep and len(values) > 1:\n",
    "            indexes.append(i)\n",
    "            new_values.append(presplit)\n",
    "        for value in values:\n",
    "            indexes.append(i)\n",
    "            new_values.append(value)\n",
    "    new_df = df.iloc[indexes, :].copy()\n",
    "    new_df[column] = new_values\n",
    "    return new_df"
   ]
  },
  {
   "cell_type": "code",
   "execution_count": null,
   "metadata": {},
   "outputs": [],
   "source": [
    "nba_players= tidy_split(nba_players,'position', sep=' and ')\n",
    "nba_players"
   ]
  },
  {
   "cell_type": "code",
   "execution_count": null,
   "metadata": {},
   "outputs": [],
   "source": [
    "nba_players=nba_players.drop_duplicates(subset='name')\n",
    "\n",
    "print(nba_players['name'].value_counts())"
   ]
  },
  {
   "cell_type": "code",
   "execution_count": null,
   "metadata": {},
   "outputs": [],
   "source": [
    "nba_players = nba_players[nba_players.careerFG != \"-\"]\n",
    "nba_players = nba_players[nba_players.careerFG3 != \"-\"]\n",
    "nba_players = nba_players[nba_players.careerFT!= \"-\"]\n",
    "nba_players = nba_players[nba_players.careerPER != \"-\"]\n",
    "nba_players = nba_players[nba_players.careerTRB != \"-\"]\n",
    "nba_players = nba_players[nba_players.careerWS != \"-\"]\n",
    "nba_players = nba_players[nba_players.careereFG != \"-\"]\n",
    "nba_players.shape"
   ]
  },
  {
   "cell_type": "code",
   "execution_count": null,
   "metadata": {},
   "outputs": [],
   "source": [
    "nba_players"
   ]
  },
  {
   "cell_type": "code",
   "execution_count": null,
   "metadata": {},
   "outputs": [],
   "source": [
    "nba_players.head()"
   ]
  },
  {
   "cell_type": "code",
   "execution_count": null,
   "metadata": {
    "scrolled": false
   },
   "outputs": [],
   "source": [
    "nba_stats=pd.merge(nba_players, nba_salaries, right_on='player_id',left_on='_id')\n",
    "nba_stats=nba_stats.drop_duplicates(subset='name')\n",
    "nba_stats=nba_stats.drop(columns=['_id','player_id'])\n",
    "nba_stats.sort_values(by=['salary'], ascending=False)\n"
   ]
  },
  {
   "cell_type": "code",
   "execution_count": null,
   "metadata": {},
   "outputs": [],
   "source": [
    "nba_stats=nba_stats.reset_index(drop=True)\n",
    "nba_stats.head()"
   ]
  },
  {
   "cell_type": "code",
   "execution_count": null,
   "metadata": {},
   "outputs": [],
   "source": [
    "nba_stats['position']=nba_stats['position'].str.strip()"
   ]
  },
  {
   "cell_type": "code",
   "execution_count": null,
   "metadata": {},
   "outputs": [],
   "source": [
    "dummy_pos=pd.get_dummies(nba_stats['position'], dummy_na=False)\n",
    "nba_stats=pd.concat([nba_stats,dummy_pos], axis=1)\n",
    "nba_stats\n"
   ]
  },
  {
   "cell_type": "code",
   "execution_count": null,
   "metadata": {},
   "outputs": [],
   "source": [
    "rookie = 1743000\n",
    "bi_annual = 4328000\n",
    "MLE = 8406000\n",
    "#rookie labeled as 0 , 0-1743000\n",
    "#Bi_annual exception , labeled as 1, 1743000 to 4328000\n",
    "#Mid Level exception 4328000-8406000, labeled as 2\n",
    "#RFA extension contract to max extension contract > 84060002 labeled as 3\n",
    "\n",
    "nba_stats['Salary_lvl'] = pd.cut(nba_stats['salary'], bins=[0, rookie, bi_annual, MLE,  float('Inf')], labels=[0,1,2,3])\n",
    "nba_stats"
   ]
  },
  {
   "cell_type": "code",
   "execution_count": null,
   "metadata": {},
   "outputs": [],
   "source": [
    "nba_stats['Salary_lvl'].value_counts()"
   ]
  },
  {
   "cell_type": "code",
   "execution_count": null,
   "metadata": {},
   "outputs": [],
   "source": [
    "nba_stats.salary.max()"
   ]
  },
  {
   "cell_type": "code",
   "execution_count": null,
   "metadata": {},
   "outputs": [],
   "source": [
    "nba_stats.salary.describe()"
   ]
  },
  {
   "cell_type": "code",
   "execution_count": null,
   "metadata": {},
   "outputs": [],
   "source": [
    "nba_stats['careerFG'] = nba_stats['careerFG'].astype(float)\n",
    "nba_stats['careerFG3'] = nba_stats['careerFG3'].astype(float)\n",
    "nba_stats['careerFT'] = nba_stats['careerFT'].astype(float)\n",
    "nba_stats['careerPER'] = nba_stats['careerPER'].astype(float)\n",
    "nba_stats['careerTRB'] = nba_stats['careerTRB'].astype(float)\n",
    "nba_stats['careerWS'] = nba_stats['careerWS'].astype(float)\n",
    "nba_stats['careereFG'] = nba_stats['careereFG'].astype(float)"
   ]
  },
  {
   "cell_type": "code",
   "execution_count": null,
   "metadata": {},
   "outputs": [],
   "source": [
    "nba_stats.to_csv(\"NBA_Career_Data.csv\", index=False)"
   ]
  }
 ],
 "metadata": {
  "kernelspec": {
   "display_name": "Python 3",
   "language": "python",
   "name": "python3"
  },
  "language_info": {
   "codemirror_mode": {
    "name": "ipython",
    "version": 3
   },
   "file_extension": ".py",
   "mimetype": "text/x-python",
   "name": "python",
   "nbconvert_exporter": "python",
   "pygments_lexer": "ipython3",
   "version": "3.7.3"
  }
 },
 "nbformat": 4,
 "nbformat_minor": 2
}
